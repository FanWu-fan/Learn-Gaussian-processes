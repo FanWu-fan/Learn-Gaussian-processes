{
 "cells": [
  {
   "cell_type": "code",
   "execution_count": 4,
   "metadata": {},
   "outputs": [
    {
     "data": {
      "text/plain": [
       "<matplotlib.collections.PathCollection at 0x7f24ce0e8400>"
      ]
     },
     "execution_count": 4,
     "metadata": {},
     "output_type": "execute_result"
    },
    {
     "data": {
      "image/png": "[encoded data removed]",
      "text/plain": [
       "<Figure size 640x480 with 1 Axes>"
      ]
     },
     "metadata": {},
     "output_type": "display_data"
    }
   ],
   "source": [
    "import numpy as np\n",
    "import pods\n",
    "import matplotlib.pyplot as plt\n",
    "\n",
    "data = pods.datasets.olympic_marathon_men()\n",
    "x = data['X']\n",
    "y = data['Y']\n",
    "\n",
    "offset = y.mean()\n",
    "scale = np.sqrt(y.var())\n",
    "yhat = (y - offset)/scale\n",
    "plt.scatter(x,y)"
   ]
  },
  {
   "cell_type": "markdown",
   "metadata": {},
   "source": [
    "* Noise corrupted data point:\n",
    "  \n",
    "  $$y_i=\\mathbf{w}^{\\top} \\mathbf{x}_{i}+\\epsilon_i$$\n",
    "\n",
    "* Multivariate regression likelihood:\n",
    "  \n",
    "$$p(\\mathbf{y} \\mid \\mathbf{X}, \\mathbf{w})=\\frac{1}{\\left(2 \\pi \\sigma^2\\right)^{n / 2}} \\exp \\left(-\\frac{1}{2 \\sigma^2} \\sum_{i=1}^n\\left(y_i-\\mathbf{w}^{\\top} \\mathbf{x}_{i}\\right)^2\\right)$$\n",
    "\n",
    "* Now use a multivariate Gaussian prior (normal distribution with mean vector of zero $\\mathbf{0}$ and a covariance matrix $\\alpha \\mathbf{I}$  ):\n",
    "  \n",
    "  $$p(\\mathbf{w})=\\frac{1}{(2 \\pi \\alpha)^{\\frac{p}{2}}} \\exp \\left(-\\frac{1}{2 \\alpha} \\mathbf{w}^{\\top} \\mathbf{w}\\right)$$"
   ]
  },
  {
   "cell_type": "markdown",
   "metadata": {},
   "source": [
    "Consider the distribution of height and weight\n",
    "$$\n",
    "p(h) \\sim \\mathcal{N}(1.7,0.0225)\n",
    "$$\n",
    "$$\n",
    "p(w) \\sim \\mathcal{N}(75,36)\n",
    "$$\n",
    "\n",
    "Supposing the height and weight are independent, The definition of probabilistic independence is that the joint density, $p(w,h)$, factorizes into its marginal densities:\n",
    "$$\n",
    "p(w,h) = p(w)p(h). \\\\\n",
    "p(w, h)=\\frac{1}{\\sqrt{2 \\pi \\sigma_1^2} \\sqrt{2 \\pi \\sigma_2^2}} \\exp \\left(-\\frac{1}{2}\\left(\\frac{\\left(w-\\mu_1\\right)^2}{\\sigma_1^2}+\\frac{\\left(h-\\mu_2\\right)^2}{\\sigma_2^2}\\right)\\right). \\\\\n",
    "p(w, h)=\\frac{1}{\\sqrt{2 \\pi \\sigma_1^2 2 \\pi \\sigma_2^2}} \\exp \\left(-\\frac{1}{2}\\left(\\left[\\begin{array}{l}\n",
    "w \\\\\n",
    "h\n",
    "\\end{array}\\right]-\\left[\\begin{array}{l}\n",
    "\\mu_1 \\\\\n",
    "\\mu_2\n",
    "\\end{array}\\right]\\right)^{\\top}\\left[\\begin{array}{cc}\n",
    "\\sigma_1^2 & 0 \\\\\n",
    "0 & \\sigma_2^2\n",
    "\\end{array}\\right]^{-1}\\left(\\left[\\begin{array}{l}\n",
    "w \\\\\n",
    "h\n",
    "\\end{array}\\right]-\\left[\\begin{array}{l}\n",
    "\\mu_1 \\\\\n",
    "\\mu_2\n",
    "\\end{array}\\right]\\right)\\right).\\\\\n",
    "p(\\mathbf{y})=\\frac{1}{\\operatorname{det} 2 \\pi \\mathbf{D}^{\\frac{1}{2}}} \\exp \\left(-\\frac{1}{2}(\\mathbf{y}-\\boldsymbol{\\mu})^{\\top} \\mathbf{D}^{-1}(\\mathbf{y}-\\boldsymbol{\\mu})\\right)\n",
    "$$\n",
    "\n"
   ]
  },
  {
   "cell_type": "markdown",
   "metadata": {},
   "source": []
  },
  {
   "cell_type": "markdown",
   "metadata": {},
   "source": []
  },
  {
   "cell_type": "markdown",
   "metadata": {},
   "source": []
  }
 ],
 "metadata": {
  "kernelspec": {
   "display_name": "t11",
   "language": "python",
   "name": "python3"
  },
  "language_info": {
   "codemirror_mode": {
    "name": "ipython",
    "version": 3
   },
   "file_extension": ".py",
   "mimetype": "text/x-python",
   "name": "python",
   "nbconvert_exporter": "python",
   "pygments_lexer": "ipython3",
   "version": "3.10.10"
  }
 },
 "nbformat": 4,
 "nbformat_minor": 2
}
